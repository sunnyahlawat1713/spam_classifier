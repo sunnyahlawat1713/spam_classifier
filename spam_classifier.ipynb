{
  "nbformat": 4,
  "nbformat_minor": 0,
  "metadata": {
    "colab": {
      "name": "spam_classifier.ipynb",
      "provenance": [],
      "collapsed_sections": []
    },
    "kernelspec": {
      "name": "python3",
      "display_name": "Python 3"
    }
  },
  "cells": [
    {
      "cell_type": "code",
      "metadata": {
        "id": "nohlHg5dRkvt",
        "colab_type": "code",
        "colab": {}
      },
      "source": [
        "import pandas as pd\n",
        "import numpy as np\n",
        "import matplotlib.pyplot as plt\n",
        "from sklearn.feature_extraction.text import CountVectorizer, TfidfVectorizer\n",
        "from sklearn.naive_bayes import MultinomialNB\n",
        "from sklearn.metrics import  precision_score, roc_auc_score\n",
        "from sklearn.svm import SVC\n",
        "from sklearn.linear_model import LogisticRegression\n",
        "from sklearn.neural_network import MLPClassifier\n",
        "from sklearn.model_selection import train_test_split\n",
        "from sklearn.ensemble import GradientBoostingClassifier"
      ],
      "execution_count": 74,
      "outputs": []
    },
    {
      "cell_type": "markdown",
      "metadata": {
        "id": "8sf_rcixSAv2",
        "colab_type": "text"
      },
      "source": [
        "In e-mail spam detection, it is really important to avoid false positives.\n",
        "Therefore we will be using precision_score as our evaluation metric."
      ]
    },
    {
      "cell_type": "markdown",
      "metadata": {
        "id": "oZg_v7IbuUih",
        "colab_type": "text"
      },
      "source": [
        "Reading in the data. This dataset contains **5572** instances of spam and ham(non-spam) emails in a csv file"
      ]
    },
    {
      "cell_type": "code",
      "metadata": {
        "id": "cWCzG1UBRzC8",
        "colab_type": "code",
        "colab": {
          "base_uri": "https://localhost:8080/",
          "height": 355
        },
        "outputId": "f310c40c-c490-45b9-9ff3-187de0d71c2c"
      },
      "source": [
        "dataset = pd.read_csv('./spam.csv')\n",
        "\n",
        "dataset[\"target\"] = np.where(dataset[\"target\"] == 'spam', 1, 0)\n",
        "\n",
        "dataset.head(10)"
      ],
      "execution_count": 3,
      "outputs": [
        {
          "output_type": "execute_result",
          "data": {
            "text/html": [
              "<div>\n",
              "<style scoped>\n",
              "    .dataframe tbody tr th:only-of-type {\n",
              "        vertical-align: middle;\n",
              "    }\n",
              "\n",
              "    .dataframe tbody tr th {\n",
              "        vertical-align: top;\n",
              "    }\n",
              "\n",
              "    .dataframe thead th {\n",
              "        text-align: right;\n",
              "    }\n",
              "</style>\n",
              "<table border=\"1\" class=\"dataframe\">\n",
              "  <thead>\n",
              "    <tr style=\"text-align: right;\">\n",
              "      <th></th>\n",
              "      <th>text</th>\n",
              "      <th>target</th>\n",
              "    </tr>\n",
              "  </thead>\n",
              "  <tbody>\n",
              "    <tr>\n",
              "      <th>0</th>\n",
              "      <td>Go until jurong point, crazy.. Available only ...</td>\n",
              "      <td>0</td>\n",
              "    </tr>\n",
              "    <tr>\n",
              "      <th>1</th>\n",
              "      <td>Ok lar... Joking wif u oni...</td>\n",
              "      <td>0</td>\n",
              "    </tr>\n",
              "    <tr>\n",
              "      <th>2</th>\n",
              "      <td>Free entry in 2 a wkly comp to win FA Cup fina...</td>\n",
              "      <td>1</td>\n",
              "    </tr>\n",
              "    <tr>\n",
              "      <th>3</th>\n",
              "      <td>U dun say so early hor... U c already then say...</td>\n",
              "      <td>0</td>\n",
              "    </tr>\n",
              "    <tr>\n",
              "      <th>4</th>\n",
              "      <td>Nah I don't think he goes to usf, he lives aro...</td>\n",
              "      <td>0</td>\n",
              "    </tr>\n",
              "    <tr>\n",
              "      <th>5</th>\n",
              "      <td>FreeMsg Hey there darling it's been 3 week's n...</td>\n",
              "      <td>1</td>\n",
              "    </tr>\n",
              "    <tr>\n",
              "      <th>6</th>\n",
              "      <td>Even my brother is not like to speak with me. ...</td>\n",
              "      <td>0</td>\n",
              "    </tr>\n",
              "    <tr>\n",
              "      <th>7</th>\n",
              "      <td>As per your request 'Melle Melle (Oru Minnamin...</td>\n",
              "      <td>0</td>\n",
              "    </tr>\n",
              "    <tr>\n",
              "      <th>8</th>\n",
              "      <td>WINNER!! As a valued network customer you have...</td>\n",
              "      <td>1</td>\n",
              "    </tr>\n",
              "    <tr>\n",
              "      <th>9</th>\n",
              "      <td>Had your mobile 11 months or more? U R entitle...</td>\n",
              "      <td>1</td>\n",
              "    </tr>\n",
              "  </tbody>\n",
              "</table>\n",
              "</div>"
            ],
            "text/plain": [
              "                                                text  target\n",
              "0  Go until jurong point, crazy.. Available only ...       0\n",
              "1                      Ok lar... Joking wif u oni...       0\n",
              "2  Free entry in 2 a wkly comp to win FA Cup fina...       1\n",
              "3  U dun say so early hor... U c already then say...       0\n",
              "4  Nah I don't think he goes to usf, he lives aro...       0\n",
              "5  FreeMsg Hey there darling it's been 3 week's n...       1\n",
              "6  Even my brother is not like to speak with me. ...       0\n",
              "7  As per your request 'Melle Melle (Oru Minnamin...       0\n",
              "8  WINNER!! As a valued network customer you have...       1\n",
              "9  Had your mobile 11 months or more? U R entitle...       1"
            ]
          },
          "metadata": {
            "tags": []
          },
          "execution_count": 3
        }
      ]
    },
    {
      "cell_type": "markdown",
      "metadata": {
        "id": "H7Eoz7j4uuWJ",
        "colab_type": "text"
      },
      "source": [
        "Splitting the data into train and test sets"
      ]
    },
    {
      "cell_type": "code",
      "metadata": {
        "id": "R2zauo2FR3k5",
        "colab_type": "code",
        "colab": {}
      },
      "source": [
        "X_train, X_test, y_train, y_test = train_test_split(dataset['text'], dataset['target'], random_state= 0)"
      ],
      "execution_count": 5,
      "outputs": []
    },
    {
      "cell_type": "markdown",
      "metadata": {
        "id": "FsUI_fHySZi8",
        "colab_type": "text"
      },
      "source": [
        "Using **TFIDF Vectorizer** : Transforms text to feature vectors to be fed into the estimator"
      ]
    },
    {
      "cell_type": "code",
      "metadata": {
        "id": "lv_QqBJZSU3r",
        "colab_type": "code",
        "colab": {
          "base_uri": "https://localhost:8080/",
          "height": 52
        },
        "outputId": "c6a61ad9-e4db-4d0f-fc69-f72fdb9b453c"
      },
      "source": [
        "#1 :: Naive Bayes Classifier using TFIDF Classifier\n",
        "\n",
        "\n",
        "vectorizer_tfidf = TfidfVectorizer()\n",
        "X_train_transformed_tfidf = vectorizer_tfidf.fit_transform(X_train)\n",
        "X_test_transformed_tfidf = vectorizer_tfidf.transform(X_test)\n",
        "\n",
        "clf_tfidf = MultinomialNB(alpha = 0.01)\n",
        "clf_tfidf.fit(X_train_transformed_tfidf, y_train)\n",
        "y_pred_tfidf = clf_tfidf.predict(X_test_transformed_tfidf)\n",
        "\n",
        "ps_nb_tfidf = precision_score(y_test, y_pred_tfidf)\n",
        "ras_nb_tfidf =  roc_auc_score(y_test, y_pred_tfidf)\n",
        "\n",
        "print(\"Precision Score MNB\", precision_score(y_test, y_pred_tfidf))\n",
        "print(\"AUC Score MNB\", roc_auc_score(y_test, y_pred_tfidf))"
      ],
      "execution_count": 15,
      "outputs": [
        {
          "output_type": "stream",
          "text": [
            "Precision Score MNB 1.0\n",
            "AUC Score MNB 0.9517766497461929\n"
          ],
          "name": "stdout"
        }
      ]
    },
    {
      "cell_type": "code",
      "metadata": {
        "id": "d1Oe4VqvS0im",
        "colab_type": "code",
        "colab": {
          "base_uri": "https://localhost:8080/",
          "height": 52
        },
        "outputId": "c2f51416-b0dc-4db4-ec35-063fb7f7605c"
      },
      "source": [
        "\n",
        "#2 :: Support Vector Classifier using TFIDF Vectorizer\n",
        "\n",
        "\n",
        "vectorizer_svc_tfidf = TfidfVectorizer()\n",
        "X_train_transformed_tfidf_svc = vectorizer_svc_tfidf.fit_transform(X_train)\n",
        "X_test_transformed_tfidf_svc  = vectorizer_svc_tfidf.transform(X_test)\n",
        "\n",
        "clf_svc = SVC(C = 10000)\n",
        "clf_svc.fit(X_train_transformed_tfidf_svc, y_train)\n",
        "y_pred_svc = clf_svc.predict(X_test_transformed_tfidf_svc)\n",
        "\n",
        "ps_svc_tfidf = precision_score(y_test, y_pred_svc)\n",
        "ras_svc_tfidf =  roc_auc_score(y_test, y_pred_svc)\n",
        "\n",
        "print(\"Precision Score SVC\", precision_score(y_test, y_pred_svc))\n",
        "print(\"AUC Score SVC\",roc_auc_score(y_test, y_pred_svc))"
      ],
      "execution_count": 17,
      "outputs": [
        {
          "output_type": "stream",
          "text": [
            "Precision Score SVC 1.0\n",
            "AUC Score SVC 0.9365482233502538\n"
          ],
          "name": "stdout"
        }
      ]
    },
    {
      "cell_type": "code",
      "metadata": {
        "id": "bwrQnN18S4QK",
        "colab_type": "code",
        "colab": {
          "base_uri": "https://localhost:8080/",
          "height": 52
        },
        "outputId": "52bbb548-a52c-4687-ed81-364c9e06e9df"
      },
      "source": [
        "#3 :: Logistic Regression using TFIDF vectorizer\n",
        "\n",
        "\n",
        "vectorizer_lr = TfidfVectorizer()\n",
        "X_train_transformed_lr = vectorizer_lr.fit_transform(X_train)\n",
        "X_test_transformed_lr  = vectorizer_lr.transform(X_test)\n",
        "\n",
        "clf_lr = LogisticRegression(C = 100)\n",
        "clf_lr.fit(X_train_transformed_lr, y_train)\n",
        "y_pred_lr = clf_lr.predict(X_test_transformed_lr)\n",
        "\n",
        "ps_lr_tfidf = precision_score(y_test, y_pred_lr)\n",
        "ras_lr_tfidf =  roc_auc_score(y_test, y_pred_lr)\n",
        "\n",
        "print(\"Precision Score LR\", precision_score(y_test, y_pred_lr))\n",
        "print(\"AUC Score LR\",roc_auc_score(y_test, y_pred_lr))"
      ],
      "execution_count": 18,
      "outputs": [
        {
          "output_type": "stream",
          "text": [
            "Precision Score LR 0.9836065573770492\n",
            "AUC Score LR 0.9555986112761659\n"
          ],
          "name": "stdout"
        }
      ]
    },
    {
      "cell_type": "code",
      "metadata": {
        "id": "YmvsG8ZcS9kp",
        "colab_type": "code",
        "colab": {
          "base_uri": "https://localhost:8080/",
          "height": 52
        },
        "outputId": "13ddc2e7-9435-4ae3-cbe0-a0f2b25320f3"
      },
      "source": [
        "#4 Neural Networks :: L-BFGS Algorithm using TFIDF vectorizer\n",
        "\n",
        "\n",
        "vectorizer_nn = TfidfVectorizer()\n",
        "X_train_transformed_nn = vectorizer_nn.fit_transform(X_train)\n",
        "X_test_transformed_nn = vectorizer_nn.transform(X_test)\n",
        "\n",
        "clf_nn = MLPClassifier(solver = 'lbfgs', random_state= 0 , hidden_layer_sizes = [10, 20, 20, 10])\n",
        "clf_nn.fit(X_train_transformed_nn, y_train)\n",
        "y_pred_nn = clf_nn.predict(X_test_transformed_nn)\n",
        "\n",
        "ps_nn_tfidf = precision_score(y_test, y_pred_nn)\n",
        "ras_nn_tfidf =  roc_auc_score(y_test, y_pred_nn)\n",
        "\n",
        "print(\"Precision Score NN\", precision_score(y_test, y_pred_nn))\n",
        "print(\"AUC Score NN\", roc_auc_score(y_test, y_pred_nn))"
      ],
      "execution_count": 19,
      "outputs": [
        {
          "output_type": "stream",
          "text": [
            "Precision Score NN 0.9497206703910615\n",
            "AUC Score NN 0.9277095394122541\n"
          ],
          "name": "stdout"
        }
      ]
    },
    {
      "cell_type": "code",
      "metadata": {
        "id": "u-ee09gXlE9f",
        "colab_type": "code",
        "colab": {
          "base_uri": "https://localhost:8080/",
          "height": 52
        },
        "outputId": "2da0d19e-3c9a-41f4-9092-ec09501777fa"
      },
      "source": [
        "#5 Decision Tree(Gradient Boosted) using TFIDF vectorizer\n",
        "\n",
        "vectorizer_nn = TfidfVectorizer()\n",
        "X_train_transformed_dt = vectorizer_nn.fit_transform(X_train)\n",
        "X_test_transformed_dt = vectorizer_nn.transform(X_test)\n",
        "\n",
        "tree = GradientBoostingClassifier(max_depth = 5, random_state = 2, learning_rate = 0.01)\n",
        "tree.fit(X_train_transformed_dt, y_train)\n",
        "y_pred_dt = tree.predict(X_test_transformed_dt)\n",
        "\n",
        "ps_dt_tfidf = precision_score(y_test, y_pred_dt)\n",
        "ras_dt_tfidf =  roc_auc_score(y_test, y_pred_dt)\n",
        "\n",
        "print(\"Precision Score\", ps_dt_tfidf)\n",
        "print(\"ROC_AUC_Score\",ras_dt_tfidf)\n",
        "\n",
        "\n",
        "\n"
      ],
      "execution_count": 86,
      "outputs": [
        {
          "output_type": "stream",
          "text": [
            "Precision Score 0.9827586206896551\n",
            "ROC_AUC_Score 0.7885039811215048\n"
          ],
          "name": "stdout"
        }
      ]
    },
    {
      "cell_type": "markdown",
      "metadata": {
        "id": "Q5b1DKs7TKK4",
        "colab_type": "text"
      },
      "source": [
        "Using **Count Vectorizer**: Count Vectorizer implements both tokenization and occurence counting in a single class"
      ]
    },
    {
      "cell_type": "code",
      "metadata": {
        "id": "TSADOY0BTB2I",
        "colab_type": "code",
        "colab": {
          "base_uri": "https://localhost:8080/",
          "height": 52
        },
        "outputId": "0dbc7e59-4b4f-4440-9b53-10d5569e7096"
      },
      "source": [
        "# 1 :: Naive Bayes Multinomial Classifierm using Count Vectorizer\n",
        "\n",
        "\n",
        "vectorizer_count = CountVectorizer()\n",
        "X_train_transformed_count = vectorizer_count.fit_transform(X_train)\n",
        "X_test_transformed_count = vectorizer_count.transform(X_test)\n",
        "\n",
        "clf_count = MultinomialNB(alpha = 0.1)\n",
        "clf_count.fit(X_train_transformed_count, y_train)\n",
        "y_pred_count = clf_count.predict(X_test_transformed_count)\n",
        "\n",
        "ps_nb_count = precision_score(y_test, y_pred_count)\n",
        "ras_nb_count =  roc_auc_score(y_test, y_pred_count)\n",
        "\n",
        "print(\"Precision Score: NB\", precision_score(y_test, y_pred_count))\n",
        "print(\"AUC Score NB\", roc_auc_score(y_test, y_pred_count))"
      ],
      "execution_count": 30,
      "outputs": [
        {
          "output_type": "stream",
          "text": [
            "Precision Score: NB 1.0\n",
            "AUC Score NB 0.9720812182741116\n"
          ],
          "name": "stdout"
        }
      ]
    },
    {
      "cell_type": "code",
      "metadata": {
        "id": "oigONs7iTl-F",
        "colab_type": "code",
        "colab": {
          "base_uri": "https://localhost:8080/",
          "height": 52
        },
        "outputId": "64d24c3e-4ef5-4ab4-d289-d99a6a163095"
      },
      "source": [
        "#2 :: Support Vector Classifier using Count Vectorizer\n",
        "\n",
        "\n",
        "vectorizer_svcCount = CountVectorizer()\n",
        "X_train_transformedCount_svc = vectorizer_svcCount.fit_transform(X_train)\n",
        "X_test_transformedCount_svc  = vectorizer_svcCount.transform(X_test)\n",
        "\n",
        "clf_svc = SVC(C = 10000)\n",
        "clf_svc.fit(X_train_transformedCount_svc, y_train)\n",
        "y_pred_svc = clf_svc.predict(X_test_transformedCount_svc)\n",
        "\n",
        "ps_svc_count = precision_score(y_test, y_pred_svc)\n",
        "ras_svc_count =  roc_auc_score(y_test, y_pred_svc)\n",
        "\n",
        "\n",
        "print(\"Precision Score SVC\", precision_score(y_test, y_pred_svc))\n",
        "print(\"AUC Score SVC\",roc_auc_score(y_test, y_pred_svc))"
      ],
      "execution_count": 20,
      "outputs": [
        {
          "output_type": "stream",
          "text": [
            "Precision Score SVC 1.0\n",
            "AUC Score SVC 0.934010152284264\n"
          ],
          "name": "stdout"
        }
      ]
    },
    {
      "cell_type": "code",
      "metadata": {
        "id": "w9gLf-79T3CQ",
        "colab_type": "code",
        "colab": {
          "base_uri": "https://localhost:8080/",
          "height": 52
        },
        "outputId": "1c481469-99c2-4616-9a0a-1e6ca797cefa"
      },
      "source": [
        "#3 :: Logistic Regression using Count vectorizer\n",
        "\n",
        "\n",
        "vectorizer_lr =CountVectorizer()\n",
        "X_train_transformed_lr = vectorizer_lr.fit_transform(X_train)\n",
        "X_test_transformed_lr  = vectorizer_lr.transform(X_test)\n",
        "\n",
        "clf_lr = LogisticRegression(C = 100)\n",
        "clf_lr.fit(X_train_transformed_lr, y_train)\n",
        "y_pred_lr = clf_lr.predict(X_test_transformed_lr)\n",
        "\n",
        "ps_lr_count = precision_score(y_test, y_pred_lr)\n",
        "ras_lr_count =  roc_auc_score(y_test, y_pred_lr)\n",
        "\n",
        "print(\"Precision Score LR\", precision_score(y_test, y_pred_lr))\n",
        "print(\"AUC Score LR\",roc_auc_score(y_test, y_pred_lr))"
      ],
      "execution_count": 21,
      "outputs": [
        {
          "output_type": "stream",
          "text": [
            "Precision Score LR 0.9943181818181818\n",
            "AUC Score LR 0.9437443763475543\n"
          ],
          "name": "stdout"
        }
      ]
    },
    {
      "cell_type": "code",
      "metadata": {
        "id": "2Lc6eHBBUIcY",
        "colab_type": "code",
        "colab": {
          "base_uri": "https://localhost:8080/",
          "height": 52
        },
        "outputId": "0207173e-bb0c-4b9f-8f67-a7e2cb5c8bd7"
      },
      "source": [
        "#6 Neural Networks :: L-BFGS Algorithm\n",
        "\n",
        "\n",
        "vectorizer_nn =CountVectorizer()\n",
        "X_train_transformed_nn = vectorizer_nn.fit_transform(X_train)\n",
        "X_test_transformed_nn = vectorizer_nn.transform(X_test)\n",
        "\n",
        "clf_nn = MLPClassifier(solver = 'lbfgs', random_state= 0 , hidden_layer_sizes = [10, 20, 20, 10])\n",
        "clf_nn.fit(X_train_transformed_nn, y_train)\n",
        "y_pred_nn = clf_nn.predict(X_test_transformed_nn)\n",
        "\n",
        "ps_nn_count = precision_score(y_test, y_pred_nn)\n",
        "ras_nn_count =  roc_auc_score(y_test, y_pred_nn)\n",
        "\n",
        "print(\"Precision Score NN\", precision_score(y_test, y_pred_nn))\n",
        "print(\"AUC Score NN\", roc_auc_score(y_test, y_pred_nn))"
      ],
      "execution_count": 22,
      "outputs": [
        {
          "output_type": "stream",
          "text": [
            "Precision Score NN 0.9567567567567568\n",
            "AUC Score NN 0.945894097074852\n"
          ],
          "name": "stdout"
        }
      ]
    },
    {
      "cell_type": "code",
      "metadata": {
        "id": "eSH-pVK8obGn",
        "colab_type": "code",
        "colab": {
          "base_uri": "https://localhost:8080/",
          "height": 52
        },
        "outputId": "0ae5a5b4-454c-41df-a913-c9416d8325f3"
      },
      "source": [
        "#5 Decision Tree(Gradient Boosted) using Count vectorizer\n",
        "\n",
        "vectorizer_nn = CountVectorizer()\n",
        "X_train_transformed_dt = vectorizer_nn.fit_transform(X_train)\n",
        "X_test_transformed_dt = vectorizer_nn.transform(X_test)\n",
        "\n",
        "tree = GradientBoostingClassifier(max_depth = 5, random_state = 2, learning_rate = 0.01)\n",
        "tree.fit(X_train_transformed_dt, y_train)\n",
        "y_pred_dt = tree.predict(X_test_transformed_dt)\n",
        "\n",
        "ps_dt_count = precision_score(y_test, y_pred_dt)\n",
        "ras_dt_count =  roc_auc_score(y_test, y_pred_dt)\n",
        "\n",
        "print(\"Precision Score\", ps_dt_count)\n",
        "print(\"ROC_AUC_Score\",ras_dt_count)\n"
      ],
      "execution_count": 87,
      "outputs": [
        {
          "output_type": "stream",
          "text": [
            "Precision Score 1.0\n",
            "ROC_AUC_Score 0.7817258883248731\n"
          ],
          "name": "stdout"
        }
      ]
    },
    {
      "cell_type": "markdown",
      "metadata": {
        "id": "1aAAoYM0XojM",
        "colab_type": "text"
      },
      "source": [
        "**Analysing performance** of various models:"
      ]
    },
    {
      "cell_type": "code",
      "metadata": {
        "id": "Cn4KXvgVUMzi",
        "colab_type": "code",
        "colab": {
          "base_uri": "https://localhost:8080/",
          "height": 395
        },
        "outputId": "0d006c93-dbac-4cd1-87a9-008161b03c0b"
      },
      "source": [
        "plt.figure(figsize = ((10,5)))\n",
        "plt.bar([\"ps_nb_count\",\"ps_svc_count\", \"ps_lr_count\" ,\"ps_nn_count\", \"ps_dt_count\"],\n",
        "        [ps_nb_count,ps_svc_count,ps_lr_count,ps_nn_count, ps_dt_count], label = 'Count vectorizer', color = 'b')\n",
        "plt.bar([\"ps_nb_tfidf\",\"ps_svc_tfidf\", \"ps_lr_tfidf\" ,\"ps_nn_tfidf\", \"ps_dt_tfidf\"],\n",
        "        [ps_nb_tfidf,ps_svc_tfidf,ps_lr_tfidf,ps_nn_tfidf, ps_dt_tfidf], label = 'TFIDF vectorizer', color = 'c')\n",
        "plt.xlabel(\"Classifier\")\n",
        "plt.ylabel(\"Precision Score\")\n",
        "plt.ylim(0.9, 1.01)\n",
        "plt.xticks(rotation = 45)\n",
        "plt.legend()\n"
      ],
      "execution_count": 83,
      "outputs": [
        {
          "output_type": "execute_result",
          "data": {
            "text/plain": [
              "<matplotlib.legend.Legend at 0x7f9a9bcf3550>"
            ]
          },
          "metadata": {
            "tags": []
          },
          "execution_count": 83
        },
        {
          "output_type": "display_data",
          "data": {
            "image/png": "[encoded data removed]",
            "text/plain": [
              "<Figure size 720x360 with 1 Axes>"
            ]
          },
          "metadata": {
            "tags": [],
            "needs_background": "light"
          }
        }
      ]
    },
    {
      "cell_type": "code",
      "metadata": {
        "id": "jOIiG2VrhgM-",
        "colab_type": "code",
        "colab": {
          "base_uri": "https://localhost:8080/",
          "height": 399
        },
        "outputId": "7d934161-f531-42b3-d53a-0a4d022adbc5"
      },
      "source": [
        "plt.figure(figsize = ((10,5)))\n",
        "plt.bar([\"ras_nb_count\",\"ras_svc_count\", \"ras_lr_count\" ,\"ras_nn_count\", \"ras_dt_count\"],\n",
        "        [ras_nb_count,ras_svc_count,ras_lr_count,ras_nn_count, ras_dt_count], label = 'Count vectorizer', color = 'b')\n",
        "plt.bar([\"ras_nb_tfidf\",\"ras_svc_tfidf\", \"ras_lr_tfidf\" ,\"ras_nn_tfidf\", \"ras_dt_tfidf\"],\n",
        "        [ras_nb_tfidf,ras_svc_tfidf,ras_lr_tfidf,ras_nn_tfidf, ras_dt_tfidf], label = 'TFIDF vectorizer', color = 'c')\n",
        "plt.xlabel(\"Classifier\")\n",
        "plt.ylabel(\"ROC_AUC_Score\")\n",
        "plt.ylim(0.7, 1.01)\n",
        "plt.xticks(rotation = 45)\n",
        "plt.legend()"
      ],
      "execution_count": 85,
      "outputs": [
        {
          "output_type": "execute_result",
          "data": {
            "text/plain": [
              "<matplotlib.legend.Legend at 0x7f9a9bbddeb8>"
            ]
          },
          "metadata": {
            "tags": []
          },
          "execution_count": 85
        },
        {
          "output_type": "display_data",
          "data": {
            "image/png": "[encoded data removed]",
            "text/plain": [
              "<Figure size 720x360 with 1 Axes>"
            ]
          },
          "metadata": {
            "tags": [],
            "needs_background": "light"
          }
        }
      ]
    },
    {
      "cell_type": "markdown",
      "metadata": {
        "id": "MsHe6_jupd72",
        "colab_type": "text"
      },
      "source": [
        "**Performance Analysis**\n",
        "\n",
        "Precision Scores:\n",
        "Multinomial Naive Bayes Classifier\n",
        "  1.   Tfidf Vectorizer : 1.0 \n",
        "  2.   Count Vectorizer : 1.0\n",
        "\n",
        "Support Vector Classifier:\n",
        "  1.   Tfidf Vectorizer : 1.0 \n",
        "  2.   Count Vectorizer : 1.0\n",
        "\n",
        "Logistic Regression:\n",
        "  1.   Tfidf Vectorizer : 0.983\n",
        "  2.   Count Vectorizer : 0.994\n",
        "\n",
        "Neural Network (MLP):\n",
        "  1.   Tfidf Vectorizer : 0.949\n",
        "  2.   Count Vectorizer : 0.956\n",
        "\n",
        "Gradient Boosted Decision Tree:\n",
        "  1.   Tfidf Vectorizer : 0.982\n",
        "  2.   Count Vectorizer : 1.0\n",
        "\n",
        "\n",
        "\n",
        "ROC_AUC Scores:\n",
        "\n",
        "Multinomial Naive Bayes Classifier: \n",
        "  1.   Tfidf Vectorizer : 0.951\n",
        "  2.   Count Vectorizer : 0.972\n",
        "\n",
        "Support Vector Classifier:\n",
        "  1.   Tfidf Vectorizer : 0.936\n",
        "  2.   Count Vectorizer : 0.934\n",
        "\n",
        "Logistic Regression:\n",
        "  1.   Tfidf Vectorizer : 0.955\n",
        "  2.   Count Vectorizer : 0.943\n",
        "\n",
        "Neural Network (MLP):\n",
        "  1.   Tfidf Vectorizer : 0.927\n",
        "  2.   Count Vectorizer : 0.945\n",
        "\n",
        "Gradient Boosted Decision Tree:\n",
        "  1.   Tfidf Vectorizer : 0.788\n",
        "  2.   Count Vectorizer : 0.781\n",
        "\n",
        "\n",
        "\n",
        "\n",
        "\n",
        "\n",
        "\n"
      ]
    },
    {
      "cell_type": "markdown",
      "metadata": {
        "id": "9sGCTg7Gt_He",
        "colab_type": "text"
      },
      "source": [
        "***CONCLUSION***\n",
        "\n",
        "From this analysis on this particular dataset, **Multinomial Naive Bayes Classifier(using Count vectorizer)** is the best performing classifier"
      ]
    },
    {
      "cell_type": "code",
      "metadata": {
        "id": "kePSnvbLtzAq",
        "colab_type": "code",
        "colab": {}
      },
      "source": [
        ""
      ],
      "execution_count": null,
      "outputs": []
    },
    {
      "cell_type": "code",
      "metadata": {
        "id": "Rtbdv8c-t8Zo",
        "colab_type": "code",
        "colab": {}
      },
      "source": [
        ""
      ],
      "execution_count": null,
      "outputs": []
    },
    {
      "cell_type": "code",
      "metadata": {
        "id": "85aqnHAuiPr1",
        "colab_type": "code",
        "colab": {}
      },
      "source": [
        ""
      ],
      "execution_count": null,
      "outputs": []
    }
  ]
}